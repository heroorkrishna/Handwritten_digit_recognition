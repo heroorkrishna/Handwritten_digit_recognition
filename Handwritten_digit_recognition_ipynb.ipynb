{
  "nbformat": 4,
  "nbformat_minor": 0,
  "metadata": {
    "colab": {
      "name": "Handwritten digit recognition ipynb",
      "provenance": [],
      "collapsed_sections": []
    },
    "kernelspec": {
      "name": "python3",
      "display_name": "Python 3"
    }
  },
  "cells": [
    {
      "cell_type": "code",
      "metadata": {
        "id": "4hp_NPK-OToB",
        "colab_type": "code",
        "outputId": "9a427133-3662-4e6b-c9fe-7a79fa992a49",
        "colab": {
          "base_uri": "https://localhost:8080/",
          "height": 34
        }
      },
      "source": [
        "import keras\n",
        "from keras.datasets import mnist\n",
        "from keras.models import Sequential\n",
        "from keras.layers import Dense, Dropout, Flatten\n",
        "from keras.layers import Conv2D, MaxPooling2D\n",
        "from keras import backend as K"
      ],
      "execution_count": 0,
      "outputs": [
        {
          "output_type": "stream",
          "text": [
            "Using TensorFlow backend.\n"
          ],
          "name": "stderr"
        }
      ]
    },
    {
      "cell_type": "code",
      "metadata": {
        "id": "n_3NIKD4L6Qg",
        "colab_type": "code",
        "outputId": "18475450-2fea-4987-bb4a-7e2981bfc822",
        "colab": {
          "base_uri": "https://localhost:8080/",
          "height": 34
        }
      },
      "source": [
        "# the data, split between train and test sets\n",
        "(x_train, y_train), (x_test, y_test) = mnist.load_data()\n",
        "print(x_train.shape, y_train.shape)"
      ],
      "execution_count": 0,
      "outputs": [
        {
          "output_type": "stream",
          "text": [
            "(60000, 28, 28) (60000,)\n"
          ],
          "name": "stdout"
        }
      ]
    },
    {
      "cell_type": "code",
      "metadata": {
        "id": "0ElZSqjYWRVQ",
        "colab_type": "code",
        "outputId": "86687441-3098-4b95-d53c-b168b8c204ca",
        "colab": {
          "base_uri": "https://localhost:8080/",
          "height": 68
        }
      },
      "source": [
        "x_train = x_train.reshape(x_train.shape[0], 28, 28, 1)\n",
        "x_test = x_test.reshape(x_test.shape[0], 28, 28, 1)\n",
        "input_shape = (28, 28, 1)\n",
        "\n",
        "# convert class vectors to binary class matrices\n",
        "y_train = keras.utils.to_categorical(y_train, 10)\n",
        "y_test = keras.utils.to_categorical(y_test, 10)\n",
        "\n",
        "x_train = x_train.astype('float32')\n",
        "x_test = x_test.astype('float32')\n",
        "x_train /= 255\n",
        "x_test /= 255\n",
        "print('x_train shape:', x_train.shape)\n",
        "print(x_train.shape[0], 'train samples')\n",
        "print(x_test.shape[0], 'test samples')\n"
      ],
      "execution_count": 0,
      "outputs": [
        {
          "output_type": "stream",
          "text": [
            "x_train shape: (60000, 28, 28, 1)\n",
            "60000 train samples\n",
            "10000 test samples\n"
          ],
          "name": "stdout"
        }
      ]
    },
    {
      "cell_type": "code",
      "metadata": {
        "id": "Px6fEMoDWjx7",
        "colab_type": "code",
        "colab": {}
      },
      "source": [
        "batch_size = 128\n",
        "num_classes = 10\n",
        "epochs = 10\n",
        "model = Sequential()\n",
        "model.add(Conv2D(32, kernel_size=(5, 5),activation='relu',input_shape=input_shape))\n",
        "model.add(MaxPooling2D(pool_size=(2, 2)))\n",
        "model.add(Conv2D(64, (3, 3), activation='relu'))\n",
        "model.add(MaxPooling2D(pool_size=(2, 2)))\n",
        "model.add(Flatten())\n",
        "model.add(Dense(128, activation='relu'))\n",
        "model.add(Dropout(0.3))\n",
        "model.add(Dense(64, activation='relu'))\n",
        "model.add(Dropout(0.5))\n",
        "model.add(Dense(num_classes, activation='softmax'))\n",
        "\n",
        "model.compile(loss=keras.losses.categorical_crossentropy,optimizer=keras.optimizers.Adadelta(),metrics=['accuracy'])"
      ],
      "execution_count": 0,
      "outputs": []
    },
    {
      "cell_type": "code",
      "metadata": {
        "id": "KRENu3ZNTfMj",
        "colab_type": "code",
        "outputId": "9004d2f0-48e1-47d5-bde4-ce9b1a82db82",
        "colab": {
          "base_uri": "https://localhost:8080/",
          "height": 462
        }
      },
      "source": [
        "hist = model.fit(x_train, y_train,batch_size=batch_size,epochs=epochs,verbose=1,validation_data=(x_test, y_test))\n",
        "print(\"The model has successfully trained\")\n",
        "\n",
        "score = model.evaluate(x_test, y_test, verbose=0)\n",
        "print('Test loss:', score[0])\n",
        "print('Test accuracy:', score[1])\n",
        "\n",
        "model.save('mnist.h5')\n",
        "print(\"Saving the model as mnist.h5\")"
      ],
      "execution_count": 0,
      "outputs": [
        {
          "output_type": "stream",
          "text": [
            "Train on 60000 samples, validate on 10000 samples\n",
            "Epoch 1/10\n",
            "60000/60000 [==============================] - 45s 744us/step - loss: 0.3654 - accuracy: 0.8868 - val_loss: 0.0622 - val_accuracy: 0.9811\n",
            "Epoch 2/10\n",
            "60000/60000 [==============================] - 44s 736us/step - loss: 0.1039 - accuracy: 0.9726 - val_loss: 0.0424 - val_accuracy: 0.9867\n",
            "Epoch 3/10\n",
            "60000/60000 [==============================] - 44s 729us/step - loss: 0.0766 - accuracy: 0.9808 - val_loss: 0.0350 - val_accuracy: 0.9893\n",
            "Epoch 4/10\n",
            "60000/60000 [==============================] - 44s 727us/step - loss: 0.0616 - accuracy: 0.9847 - val_loss: 0.0294 - val_accuracy: 0.9911\n",
            "Epoch 5/10\n",
            "60000/60000 [==============================] - 43s 724us/step - loss: 0.0497 - accuracy: 0.9871 - val_loss: 0.0281 - val_accuracy: 0.9914\n",
            "Epoch 6/10\n",
            "60000/60000 [==============================] - 43s 725us/step - loss: 0.0438 - accuracy: 0.9890 - val_loss: 0.0268 - val_accuracy: 0.9928\n",
            "Epoch 7/10\n",
            "60000/60000 [==============================] - 44s 729us/step - loss: 0.0388 - accuracy: 0.9899 - val_loss: 0.0250 - val_accuracy: 0.9922\n",
            "Epoch 8/10\n",
            "60000/60000 [==============================] - 44s 730us/step - loss: 0.0352 - accuracy: 0.9907 - val_loss: 0.0245 - val_accuracy: 0.9928\n",
            "Epoch 9/10\n",
            "60000/60000 [==============================] - 44s 731us/step - loss: 0.0333 - accuracy: 0.9912 - val_loss: 0.0256 - val_accuracy: 0.9931\n",
            "Epoch 10/10\n",
            "60000/60000 [==============================] - 44s 731us/step - loss: 0.0300 - accuracy: 0.9919 - val_loss: 0.0300 - val_accuracy: 0.9921\n",
            "The model has successfully trained\n",
            "Test loss: 0.02998987341732667\n",
            "Test accuracy: 0.9921000003814697\n",
            "Saving the model as mnist.h5\n"
          ],
          "name": "stdout"
        }
      ]
    }
  ]
}